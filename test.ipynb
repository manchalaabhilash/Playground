{
 "cells": [
  {
   "cell_type": "code",
   "execution_count": null,
   "metadata": {},
   "outputs": [
    {
     "data": {
      "text/plain": [
       "5"
      ]
     },
     "execution_count": 1,
     "metadata": {},
     "output_type": "execute_result"
    }
   ],
   "source": [
    "from src.rag import RAG",
    "",
    "# Initialize RAG with your ML textbook PDFs",
    "pdf_paths = [\"path/to/your/ml_textbook.pdf\"]",
    "rag = RAG(pdf_paths)",
    "",
    "# Load and process documents",
    "num_chunks = rag.load_and_process_documents()",
    "print(f\"Processed {num_chunks} chunks from the PDF\")",
    "",
    "# Test a question",
    "question = \"What is gradient descent and how does it work?\"",
    "answer = rag.answer_question(question)",
    "print(f\"Question: {question}\")",
    "print(f\"Answer: {answer}\")"
   ]
  }
 ],
 "metadata": {
  "kernelspec": {
   "display_name": ".venv",
   "language": "python",
   "name": "python3"
  },
  "language_info": {
   "codemirror_mode": {
    "name": "ipython",
    "version": 3
   },
   "file_extension": ".py",
   "mimetype": "text/x-python",
   "name": "python",
   "nbconvert_exporter": "python",
   "pygments_lexer": "ipython3",
   "version": "3.13.2"
  }
 },
 "nbformat": 4,
 "nbformat_minor": 2
}
