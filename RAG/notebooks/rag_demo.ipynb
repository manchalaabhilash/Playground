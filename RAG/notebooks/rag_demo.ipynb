{
 "cells": [
  {
   "cell_type": "markdown",
   "metadata": {},
   "source": [
    "# ML Textbook RAG Demo\n",
    "\n",
    "This notebook demonstrates how to use the RAG system to answer questions about machine learning concepts using textbook PDFs."
   ]
  },
  {
   "cell_type": "code",
   "execution_count": null,
   "metadata": {},
   "outputs": [],
   "source": [
    "import sys\n",
    "import os\n",
    "\n",
    "# Add the project root to the Python path\n",
    "sys.path.append(os.path.dirname(os.path.dirname(os.path.abspath('__file__'))))\n",
    "\n",
    "from src.rag import RAG"
   ]
  },
  {
   "cell_type": "markdown",
   "metadata": {},
   "source": [
    "## 1. Initialize the RAG System\n",
    "\n",
    "First, we need to initialize the RAG system with our ML textbook PDFs."
   ]
  },
  {
   "cell_type": "code",
   "execution_count": null,
   "metadata": {},
   "outputs": [],
   "source": [
    "# List your ML textbook PDFs\n",
    "pdf_paths = [\n",
    "    \"../data/pdfs/your_ml_textbook.pdf\"  # Replace with your actual PDF path\n",
    "]\n",
    "\n",
    "# Initialize RAG system\n",
    "rag = RAG(pdf_paths)\n",
    "\n",
    "# Load and process documents\n",
    "num_chunks = rag.load_and_process_documents()\n",
    "print(f\"Processed {num_chunks} chunks from {len(pdf_paths)} PDFs\")"
   ]
  },
  {
   "cell_type": "markdown",
   "metadata": {},
   "source": [
    "## 2. Ask Questions with RAG\n",
    "\n",
    "Now we can ask questions about machine learning concepts and get answers based on our textbooks."
   ]
  },
  {
   "cell_type": "code",
   "execution_count": null,
   "metadata": {},
   "outputs": [],
   "source": [
    "# Ask a question with RAG\n",
    "question = \"What is gradient descent?\"\n",
    "answer = rag.answer_question(question, use_rag=True)\n",
    "print(f\"Question: {question}\")\n",
    "print(f\"Answer: {answer}\")"
   ]
  },
  {
   "cell_type": "markdown",
   "metadata": {},
   "source": [
    "## 3. Compare with Direct LLM (No RAG)\n",
    "\n",
    "Let's compare the answers with and without RAG to see the difference."
   ]
  },
  {
   "cell_type": "code",
   "execution_count": null,
   "metadata": {},
   "outputs": [],
   "source": [
    "# Ask the same question without RAG\n",
    "answer_no_rag = rag.answer_question(question, use_rag=False)\n",
    "print(f\"Question: {question}\")\n",
    "print(f\"Answer (No RAG): {answer_no_rag}\")"
   ]
  },
  {
   "cell_type": "markdown",
   "metadata": {},
   "source": [
    "## 4. Try More Questions\n",
    "\n",
    "Let's try some more questions to see how the RAG system performs."
   ]
  },
  {
   "cell_type": "code",
   "execution_count": null,
   "metadata": {},
   "outputs": [],
   "source": [
    "# List of questions to try\n",
    "questions = [\n",
    "    \"Explain the difference between supervised and unsupervised learning\",\n",
    "    \"How does a decision tree work?\",\n",
    "    \"What is the curse of dimensionality?\"\n",
    "]\n",
    "\n",
    "# Ask each question with RAG\n",
    "for q in questions:\n",
    "    print(f\"\\nQuestion: {q}\")\n",
    "    answer = rag.answer_question(q, use_rag=True)\n",
    "    print(f\"Answer: {answer}\")"
   ]
  }
 ],
 "metadata": {
  "kernelspec": {
   "display_name": "Python 3",
   "language": "python",
   "name": "python3"
  },
  "language_info": {
   "codemirror_mode": {
    "name": "ipython",
    "version": 3
   },
   "file_extension": ".py",
   "mimetype": "text/x-python",
   "name": "python",
   "nbconvert_exporter": "python",
   "pygments_lexer": "ipython3",
   "version": "3.9.0"
  }
 },
 "nbformat": 4,
 "nbformat_minor": 4
}